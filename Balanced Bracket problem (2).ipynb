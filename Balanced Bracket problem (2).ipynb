{
 "cells": [
  {
   "cell_type": "markdown",
   "metadata": {},
   "source": [
    "Q 3) Given a string containing just the characters '(', ')', '{', '}', '[' and ']', determine if the input string is valid.\n",
    "An input string is valid if:\n",
    "Open brackets must be closed by the same type of brackets.\n",
    "Open brackets must be closed in the correct order.\n",
    "Note that an empty string is also considered valid.\n"
   ]
  },
  {
   "cell_type": "code",
   "execution_count": 14,
   "metadata": {},
   "outputs": [
    {
     "name": "stdout",
     "output_type": "stream",
     "text": [
      "True\n"
     ]
    }
   ],
   "source": [
    "def balancedBracket(expr):\n",
    "    stack=[]\n",
    "    for char in expr:\n",
    "        if char in ['{','[','(']:\n",
    "            stack.append(char)\n",
    "        else:\n",
    "            if not stack: \n",
    "                return False\n",
    "            current_char = stack.pop()\n",
    "            if current_char == '(': \n",
    "                if char != \")\": \n",
    "                    return False\n",
    "            if current_char == '{': \n",
    "                if char != \"}\": \n",
    "                    return False\n",
    "            if current_char == '[': \n",
    "                if char != \"]\": \n",
    "                    return False\n",
    "    if stack: \n",
    "        return False\n",
    "    return True  \n",
    "if __name__ == \"__main__\": \n",
    "    expr = \"{()}[{}]\" \n",
    "    if balancedBracket(expr): \n",
    "        print(\"True\") \n",
    "    else: \n",
    "        print(\"False\") \n",
    "  \n",
    "    \n"
   ]
  },
  {
   "cell_type": "markdown",
   "metadata": {},
   "source": [
    "Question 2:\n",
    "Given two arrays, write a function to compute their intersection.\n"
   ]
  },
  {
   "cell_type": "code",
   "execution_count": 2,
   "metadata": {},
   "outputs": [
    {
     "name": "stdout",
     "output_type": "stream",
     "text": [
      "Intersection :  [3, 5]\n"
     ]
    }
   ],
   "source": [
    "def Intersection(arr1,arr2): \n",
    "     res = list(filter(lambda x: x in arr1, arr2))  \n",
    "     print (\"Intersection : \",res) \n",
    "    \n",
    "if __name__ == \"__main__\": \n",
    "    arr1 = [1, 3, 4, 5, 7] \n",
    "    arr2 = [2, 3, 5, 6] \n",
    "    Intersection(arr1,arr2)\n",
    "\n"
   ]
  },
  {
   "cell_type": "markdown",
   "metadata": {},
   "source": [
    "question 4:Given a non-empty array of integers, every element appears twice except for one. Find that single one"
   ]
  },
  {
   "cell_type": "code",
   "execution_count": 1,
   "metadata": {},
   "outputs": [
    {
     "name": "stdout",
     "output_type": "stream",
     "text": [
      "1\n",
      "9\n"
     ]
    }
   ],
   "source": [
    "#Question 4:Given a non-empty array of integers, every element appears twice except for one. Find that single one.\n",
    "\n",
    "def uniqueNumber(num):\n",
    "    return 2 * sum(set(num)) - sum(num)\n",
    "\n",
    "a = [2, 1, 5, 4, 5, 2, 4]\n",
    "print (int(uniqueNumber(a)))\n",
    " \n",
    "a = [5, 8, 6, 8, 6, 5, 9]\n",
    "print (int(uniqueNumber(a)))\n"
   ]
  },
  {
   "cell_type": "code",
   "execution_count": null,
   "metadata": {},
   "outputs": [],
   "source": []
  }
 ],
 "metadata": {
  "kernelspec": {
   "display_name": "Python 3",
   "language": "python",
   "name": "python3"
  },
  "language_info": {
   "codemirror_mode": {
    "name": "ipython",
    "version": 3
   },
   "file_extension": ".py",
   "mimetype": "text/x-python",
   "name": "python",
   "nbconvert_exporter": "python",
   "pygments_lexer": "ipython3",
   "version": "3.8.3"
  }
 },
 "nbformat": 4,
 "nbformat_minor": 4
}
