{
 "cells": [
  {
   "cell_type": "markdown",
   "metadata": {},
   "source": [
    "Q 3) Given a string containing just the characters '(', ')', '{', '}', '[' and ']', determine if the input string is valid.\n",
    "An input string is valid if:\n",
    "Open brackets must be closed by the same type of brackets.\n",
    "Open brackets must be closed in the correct order.\n",
    "Note that an empty string is also considered valid.\n"
   ]
  },
  {
   "cell_type": "code",
   "execution_count": 10,
   "metadata": {},
   "outputs": [
    {
     "name": "stdout",
     "output_type": "stream",
     "text": [
      "Balanced\n"
     ]
    }
   ],
   "source": [
    "def balancedBracket(expr):\n",
    "    stack=[]\n",
    "    for char in expr:\n",
    "        if char in ['{','[','(']:\n",
    "            stack.append(char)\n",
    "        else:\n",
    "            if not stack: \n",
    "                return False\n",
    "            current_char = stack.pop()\n",
    "            if current_char == '(': \n",
    "                if char != \")\": \n",
    "                    return False\n",
    "            if current_char == '{': \n",
    "                if char != \"}\": \n",
    "                    return False\n",
    "            if current_char == '[': \n",
    "                if char != \"]\": \n",
    "                    return False\n",
    "    if stack: \n",
    "        return False\n",
    "    return True  \n",
    "if __name__ == \"__main__\": \n",
    "    expr = \"{()}[{}]\"\n",
    "  \n",
    "    # Function call \n",
    "    if balancedBracket(expr): \n",
    "        print(\"Balanced\") \n",
    "    else: \n",
    "        print(\"Not Balanced\") \n",
    "  \n",
    "    \n"
   ]
  },
  {
   "cell_type": "code",
   "execution_count": null,
   "metadata": {},
   "outputs": [],
   "source": []
  },
  {
   "cell_type": "code",
   "execution_count": null,
   "metadata": {},
   "outputs": [],
   "source": []
  }
 ],
 "metadata": {
  "kernelspec": {
   "display_name": "Python 3",
   "language": "python",
   "name": "python3"
  },
  "language_info": {
   "codemirror_mode": {
    "name": "ipython",
    "version": 3
   },
   "file_extension": ".py",
   "mimetype": "text/x-python",
   "name": "python",
   "nbconvert_exporter": "python",
   "pygments_lexer": "ipython3",
   "version": "3.8.3"
  }
 },
 "nbformat": 4,
 "nbformat_minor": 4
}
